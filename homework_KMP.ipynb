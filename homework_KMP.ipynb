{
 "cells": [
  {
   "cell_type": "markdown",
   "id": "eeabc737",
   "metadata": {},
   "source": [
    "`Выполнил:` С.М. Дружининский "
   ]
  },
  {
   "cell_type": "code",
   "execution_count": 9,
   "id": "a6245702",
   "metadata": {},
   "outputs": [],
   "source": [
    "def longest_prefix(input):\n",
    " \n",
    "    length = len(input)\n",
    "    \n",
    "    for i in range(length - 1, 0, -1):\n",
    "        prefix = input[:i]\n",
    "        suffix = input[length - i:]\n",
    "        \n",
    "        if prefix == suffix:\n",
    "            return prefix\n",
    "    \n",
    "    return \"\""
   ]
  },
  {
   "cell_type": "code",
   "execution_count": 10,
   "id": "2d591bc0",
   "metadata": {},
   "outputs": [
    {
     "name": "stdout",
     "output_type": "stream",
     "text": [
      "aba\n",
      "\n"
     ]
    }
   ],
   "source": [
    "# Проверка \n",
    "print(longest_prefix('abaaba'))\n",
    "print(longest_prefix('abcde'))"
   ]
  }
 ],
 "metadata": {
  "kernelspec": {
   "display_name": "mirna",
   "language": "python",
   "name": "python3"
  },
  "language_info": {
   "codemirror_mode": {
    "name": "ipython",
    "version": 3
   },
   "file_extension": ".py",
   "mimetype": "text/x-python",
   "name": "python",
   "nbconvert_exporter": "python",
   "pygments_lexer": "ipython3",
   "version": "3.11.14"
  }
 },
 "nbformat": 4,
 "nbformat_minor": 5
}
